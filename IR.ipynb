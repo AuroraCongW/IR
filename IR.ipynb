{
 "cells": [
  {
   "cell_type": "markdown",
   "metadata": {},
   "source": [
    "## load dataset"
   ]
  },
  {
   "cell_type": "code",
   "execution_count": 1,
   "metadata": {},
   "outputs": [],
   "source": [
    "from xml.etree.ElementTree import parse"
   ]
  },
  {
   "cell_type": "code",
   "execution_count": 2,
   "metadata": {},
   "outputs": [],
   "source": [
    "def load_xml(file):\n",
    "    docs_dict = {}\n",
    "    doc_xml = parse(file)\n",
    "    root = doc_xml.getroot()\n",
    "    for item in root.findall('DOC'):\n",
    "        docID = item.find('DOCNO').text\n",
    "        headline = item.find('HEADLINE').text\n",
    "        text = item.find('TEXT').text\n",
    "        content = headline+text\n",
    "        docs_dict[docID] = content\n",
    "    return docs_dict"
   ]
  },
  {
   "cell_type": "code",
   "execution_count": 3,
   "metadata": {},
   "outputs": [],
   "source": [
    "def load_stop_words(file):\n",
    "    with open(file) as f:\n",
    "        stop_words = [w.strip('\\n') for w in f.readlines()]\n",
    "    return stop_words"
   ]
  },
  {
   "cell_type": "markdown",
   "metadata": {},
   "source": [
    "## Pre-processes text"
   ]
  },
  {
   "cell_type": "code",
   "execution_count": 4,
   "metadata": {},
   "outputs": [],
   "source": [
    "import re"
   ]
  },
  {
   "cell_type": "code",
   "execution_count": 5,
   "metadata": {},
   "outputs": [],
   "source": [
    "from nltk.stem import PorterStemmer"
   ]
  },
  {
   "cell_type": "code",
   "execution_count": 6,
   "metadata": {},
   "outputs": [],
   "source": [
    "def preprocess(text):\n",
    "    preprocessed_tokens = []\n",
    "    stemmer = PorterStemmer()\n",
    "    pattern = r\"\\w+\"\n",
    "    tokens = re.findall(pattern,text)\n",
    "    for token in tokens:\n",
    "        if token.lower() not in stop_words:\n",
    "            preprocessed_tokens.append(stemmer.stem(token.lower()))\n",
    "    return preprocessed_tokens"
   ]
  },
  {
   "cell_type": "markdown",
   "metadata": {},
   "source": [
    "## Creates a positional inverted index"
   ]
  },
  {
   "cell_type": "code",
   "execution_count": 7,
   "metadata": {},
   "outputs": [],
   "source": [
    "from collections import defaultdict, OrderedDict"
   ]
  },
  {
   "cell_type": "code",
   "execution_count": 8,
   "metadata": {},
   "outputs": [],
   "source": [
    "def positional_inverted_index():\n",
    "    index_dict = defaultdict(lambda:defaultdict(list))#  初始化一个双字典\n",
    "    \"\"\"\n",
    "    {\n",
    "    {doc_id:[1,2,3]},\n",
    "    {doc_id:[1,2,3]},\n",
    "    {doc_id:[2,3,4]}\n",
    "    }\n",
    "    \n",
    "    \"\"\"\n",
    "    for docID,content in docs_dict.items():\n",
    "        tokens = preprocess(content)\n",
    "        for position,token in enumerate(tokens):\n",
    "            index_dict[token][docID].append(position+1)\n",
    "    ordered_index_dict = OrderedDict(sorted(index_dict.items()))#　排序\n",
    "    return ordered_index_dict"
   ]
  },
  {
   "cell_type": "code",
   "execution_count": 9,
   "metadata": {},
   "outputs": [],
   "source": [
    "def write_index_to_file(index):\n",
    "    with open('index.txt', 'w') as f:\n",
    "        for term in index.keys():\n",
    "                line = term + ':' + str(len(index[term])) +'\\n'\n",
    "                for docID in index[term].keys():\n",
    "                    position_list = index[term][docID]\n",
    "                    line += '\\t' + str(docID) + ': '+ ','.join(str(position) for position in position_list)+ '\\n'\n",
    "                f.write(line)            "
   ]
  },
  {
   "cell_type": "markdown",
   "metadata": {},
   "source": [
    "## write positional inverted index to file"
   ]
  },
  {
   "cell_type": "code",
   "execution_count": 10,
   "metadata": {},
   "outputs": [],
   "source": [
    "xml_path = \"/home/congw/Projects/IR/CW1collection/trec.5000.xml\"\n",
    "stop_word_path = \"/home/congw/Projects/IR/englishST.txt\"\n",
    "docs_dict = load_xml(xml_path)\n",
    "stop_words = load_stop_words(stop_word_path)\n",
    "index = positional_inverted_index()\n",
    "write_index_to_file(index)"
   ]
  },
  {
   "cell_type": "markdown",
   "metadata": {},
   "source": [
    "## Boolean search"
   ]
  },
  {
   "cell_type": "code",
   "execution_count": 11,
   "metadata": {},
   "outputs": [],
   "source": [
    "def tokenize_query(query):\n",
    "    \"\"\"\n",
    "    把query语句\"合适的\"拆开\n",
    "    \"Financial times\" AND NOT BBC -> [\"Financial times\", AND, NOT, BBC]\n",
    "    \"\"\"\n",
    "    query_list = query.split(' ')\n",
    "    length = len(query_list)\n",
    "    index = 0\n",
    "    result_list = []\n",
    "    \n",
    "    while index < length:\n",
    "        \n",
    "        if '#' in query_list[index]:\n",
    "            \n",
    "            temp_list = []\n",
    "            temp_list.append(query_list[index])\n",
    "            while ')' not in query_list[index]:\n",
    "                index+=1\n",
    "                temp_list.append(query_list[index])\n",
    "            index+=1\n",
    "            result_list.append(''.join(temp_list))\n",
    "        \n",
    "        elif '\\\"' in query_list[index]:\n",
    "            temp_list = []\n",
    "            temp_list.append(query_list[index])\n",
    "            index+=1\n",
    "            while '\\\"' not in query_list[index]:\n",
    "                temp_list.append(query_list[index])\n",
    "                index+=1\n",
    "            index+=1\n",
    "            temp_list.append(query_list[index-1])\n",
    "            result_list.append(' '.join(temp_list))\n",
    "            \n",
    "        else:\n",
    "            result_list.append(query_list[index])\n",
    "            index+=1    \n",
    "    \n",
    "    return result_list"
   ]
  },
  {
   "cell_type": "code",
   "execution_count": 12,
   "metadata": {},
   "outputs": [],
   "source": [
    "def parse_proximity_query(query):\n",
    "    \"\"\"\n",
    "    把　proximity query 用到的部分解析出来\n",
    "    #15(dow,stocks) -> [15,dow,stocks]　（还要对每个query term 进行预处理）\n",
    "    \"\"\"\n",
    "    proximity_parse = re.findall(r'#([0-9]+?)\\((.+?)\\)', query)\n",
    "    max_distence = int(proximity_parse[0][0])\n",
    "    query_terms = proximity_parse[0][1].split(',')\n",
    "    preprocessed_query_terms = [PorterStemmer().stem(t.lower()) for t in query_terms]\n",
    "    return preprocessed_query_terms,max_distence\n",
    "def parse_phrasal_query(query):\n",
    "    \"\"\"\n",
    "    同上\n",
    "    \"\"\"\n",
    "    phrasal_parse = re.findall(r'\\\"(.+?)\\\"', query)\n",
    "#     print(phrasal_parse)\n",
    "    query_terms = phrasal_parse[0].split(' ')\n",
    "    preprocessed_query_terms = [PorterStemmer().stem(t.lower()) for t in query_terms]\n",
    "    return preprocessed_query_terms"
   ]
  },
  {
   "cell_type": "code",
   "execution_count": 13,
   "metadata": {},
   "outputs": [],
   "source": [
    "def linear_merge(terms,max_dist,search=\"Phrasal\"):\n",
    "    \"\"\"\n",
    "    对query term 对应的posting list进行线性合并，\n",
    "    如果是Phrasal query，查找是否有最大距离是１\n",
    "    如果是proximity query，查找是否有最大距离是 max_dist\n",
    "    \"\"\"\n",
    "    posting_lists = [index[term] for term in terms]\n",
    "    docNums = [sorted(posting_list.keys()) for posting_list in posting_lists]\n",
    "    result = []\n",
    "    intersection_docNums = list(set(docNums[0]) & set(docNums[1]))\n",
    "    for intersection_docNum in intersection_docNums:\n",
    "        left_term_position = posting_lists[0][intersection_docNum]             \n",
    "        right_term_position = posting_lists[1][intersection_docNum]                         \n",
    "        abs_distences = [abs(j - i) for i in left_term_position for j in right_term_position]\n",
    "        if search==\"Phrasal\":\n",
    "            if max_dist in abs_distences:\n",
    "                result.append(intersection_docNum)\n",
    "        else:\n",
    "            if any([abs_distence <= max_dist for abs_distence in abs_distences]):\n",
    "                result.append(intersection_docNum)\n",
    "    return result"
   ]
  },
  {
   "cell_type": "code",
   "execution_count": 14,
   "metadata": {},
   "outputs": [],
   "source": [
    "def single_search(query):\n",
    "    \"\"\"\n",
    "    处理单个 query term 查询\n",
    "    \"\"\"\n",
    "    def is_find(words):\n",
    "        flag = 1\n",
    "        for word in words:\n",
    "            if word not in index.keys():\n",
    "                flag=0\n",
    "        return flag\n",
    "        \n",
    "    if '\\\"' in query:\n",
    "        query_terms = parse_phrasal_query(query)\n",
    "        if is_find(query_terms):\n",
    "            return linear_merge(query_terms,1,\"Phrasal\")\n",
    "        else:\n",
    "            return []\n",
    "    \n",
    "    elif '#' in query:\n",
    "        query_terms,max_ditence = parse_proximity_query(query)\n",
    "        if is_find(query_terms):\n",
    "            return linear_merge(query_terms,max_ditence,\"Proximity\")\n",
    "        else:\n",
    "            return []\n",
    "    else:\n",
    "        query_term = [PorterStemmer().stem(query.lower())]\n",
    "        if is_find(query_term):\n",
    "            return sorted(index[query_term[0]].keys())\n",
    "        else:\n",
    "            return []\n",
    "    "
   ]
  },
  {
   "cell_type": "code",
   "execution_count": 15,
   "metadata": {},
   "outputs": [],
   "source": [
    "def bool_search(query):\n",
    "    \"\"\"\n",
    "    处理布尔查询\n",
    "    \"\"\"\n",
    "    query_lst = tokenize_query(query)\n",
    "    key_words = [\"AND\",\"OR\",\"NOT\"]\n",
    "    \n",
    "    if len(query_lst) == 1:\n",
    "        return set(single_search(query_lst[0]))\n",
    "    \n",
    "    if len(query_lst) == 3:\n",
    "    \n",
    "        if query_lst[1] == \"AND\":\n",
    "            word1 = query_lst[0]\n",
    "            word2 = query_lst[2]\n",
    "            return set(single_search(word1)) & set(single_search(word2))\n",
    "\n",
    "        else:\n",
    "            word1 = query_lst[0]\n",
    "            word2 = query_lst[2]\n",
    "            return set(single_search(word1)) | set(single_search(word2))\n",
    "    \n",
    "    if len(query_lst) == 4:\n",
    "        doc_ids = []     \n",
    "        for term in index.keys():                               \n",
    "            doc_ids.extend(index[term].keys())                     \n",
    "        doc_ids = set(doc_ids)  \n",
    "        \n",
    "        if query_lst[1] == \"AND\":\n",
    "            word1 = query_lst[0]\n",
    "            word2 = query_lst[2]\n",
    "            return set(single_search(word1)) & (doc_ids - set(single_search(word2)))\n",
    "        \n",
    "        else:\n",
    "            word1 = query_lst[0]\n",
    "            word2 = query_lst[2]\n",
    "            return set(single_search(word1)) | (doc_ids - set(single_search(word2)))"
   ]
  },
  {
   "cell_type": "code",
   "execution_count": 16,
   "metadata": {},
   "outputs": [],
   "source": [
    "def write_search_to_file(query_file):\n",
    "    content = \"\"\n",
    "    with open(query_file) as f:\n",
    "        query_list = f.readlines()\n",
    "    \n",
    "    for query in query_list:\n",
    "        pattern = r'([0-9]+?) (.+?)\\n'\n",
    "        query_id, query = re.findall(pattern, query)[0]\n",
    "        print(query)\n",
    "        result_list = list(bool_search(query))\n",
    "        for doc_id in result_list:\n",
    "            content += '{},{}\\n'.format(query_id, doc_id)\n",
    "                \n",
    "    with open('results.boolean.txt', 'w') as f:         \n",
    "        f.write(content)"
   ]
  },
  {
   "cell_type": "code",
   "execution_count": 17,
   "metadata": {},
   "outputs": [
    {
     "name": "stdout",
     "output_type": "stream",
     "text": [
      "Happiness\n",
      "Edinburgh AND SCOTLAND\n",
      "income AND taxes\n",
      "\"income taxes\"\n",
      "#20(income, taxes)\n",
      "\"middle east\" AND peace\n",
      "\"islam religion\"\n",
      "\"Financial times\" AND NOT BBC\n",
      "\"wall street\" AND \"dow jones\"\n",
      "#15(dow,stocks)\n"
     ]
    }
   ],
   "source": [
    "write_search_to_file(\"/home/congw/Projects/IR/CW1collection/queries.boolean.txt\")"
   ]
  },
  {
   "cell_type": "markdown",
   "metadata": {},
   "source": [
    "## tf-idf"
   ]
  },
  {
   "cell_type": "code",
   "execution_count": 18,
   "metadata": {},
   "outputs": [],
   "source": [
    "def count_unique_document():\n",
    "    doc_ids = []\n",
    "    for term in index.keys():                      \n",
    "        doc_ids.extend(index[term].keys())                \n",
    "    doc_ids = set(doc_ids)            \n",
    "    return len(doc_ids)\n",
    "\n",
    "N=count_unique_document()"
   ]
  },
  {
   "cell_type": "code",
   "execution_count": 19,
   "metadata": {},
   "outputs": [],
   "source": [
    "import math\n",
    "\n",
    "def weight(term,docID):\n",
    "    tf = len(index[term][docID]) \n",
    "    df = len(index[term].keys())\n",
    "    wt = 1 + math.log10(tf) * math.log10(N / df)\n",
    "    return wt\n"
   ]
  },
  {
   "cell_type": "code",
   "execution_count": 20,
   "metadata": {},
   "outputs": [],
   "source": [
    "def score(query, docID):\n",
    "    score = 0\n",
    "    query_terms = preprocess(query)\n",
    "    for term in query_terms:\n",
    "        if docID in index[term]:\n",
    "            score += weight(term, docID)\n",
    "    return score"
   ]
  },
  {
   "cell_type": "code",
   "execution_count": 21,
   "metadata": {},
   "outputs": [],
   "source": [
    "def extract_docIDs(query):\n",
    "    docIDs = []\n",
    "    query_terms = preprocess(query)\n",
    "    for term in query_terms:\n",
    "        docIDs.extend(index[term].keys())\n",
    "    return sorted(list(set(docIDs)))"
   ]
  },
  {
   "cell_type": "code",
   "execution_count": 22,
   "metadata": {},
   "outputs": [],
   "source": [
    "def rank(query):\n",
    "    scores = dict()\n",
    "    for docID in extract_docIDs(query):          \n",
    "        scores[docID] = score(query, docID)\n",
    "    return {k: v for k, v in sorted(scores.items(), key=lambda item: item[1],reverse=True)}"
   ]
  },
  {
   "cell_type": "code",
   "execution_count": 23,
   "metadata": {},
   "outputs": [],
   "source": [
    "def write_ranked_query_to_file(query_file,MAX=150):\n",
    "    \n",
    "    def load_query_file(query_file):\n",
    "        with open(query_file) as f:\n",
    "            queries = f.readlines()\n",
    "        return queries\n",
    "    def write_ranked_result(content,file=\"results.ranked.txt\"):\n",
    "        with open(file,\"w\") as f:\n",
    "            f.write(content)\n",
    "    \n",
    "    queries = load_query_file(query_file)\n",
    "    pattern = r'([0-9]+?) (.+?)\\n' \n",
    "    content = \"\"\n",
    "    \n",
    "    for query in queries:\n",
    "        queryID, query = re.findall(pattern, query)[0]\n",
    "        ranked_dict = rank(query)\n",
    "        count = 0\n",
    "        for docID,score in ranked_dict.items():\n",
    "            if count < MAX:\n",
    "                content += \"{},{},{:.4f}\\n\".format(queryID, docID, score)\n",
    "                count+=1\n",
    "        \n",
    "    write_ranked_result(content)"
   ]
  },
  {
   "cell_type": "code",
   "execution_count": 24,
   "metadata": {},
   "outputs": [],
   "source": [
    "write_ranked_query_to_file(\"/home/congw/Projects/IR/CW1collection/queries.ranked.txt\")"
   ]
  }
 ],
 "metadata": {
  "kernelspec": {
   "display_name": "Python 3",
   "language": "python",
   "name": "python3"
  },
  "language_info": {
   "codemirror_mode": {
    "name": "ipython",
    "version": 3
   },
   "file_extension": ".py",
   "mimetype": "text/x-python",
   "name": "python",
   "nbconvert_exporter": "python",
   "pygments_lexer": "ipython3",
   "version": "3.7.6"
  }
 },
 "nbformat": 4,
 "nbformat_minor": 4
}
