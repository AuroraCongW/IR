{
 "cells": [
  {
   "cell_type": "markdown",
   "metadata": {},
   "source": [
    "## load dataset"
   ]
  },
  {
   "cell_type": "code",
   "execution_count": 1,
   "metadata": {},
   "outputs": [],
   "source": [
    "import pandas as pd"
   ]
  },
  {
   "cell_type": "code",
   "execution_count": 2,
   "metadata": {},
   "outputs": [],
   "source": [
    "import xml.etree.ElementTree as ET"
   ]
  },
  {
   "cell_type": "code",
   "execution_count": 3,
   "metadata": {},
   "outputs": [],
   "source": [
    "def load_xml(file):\n",
    "    docs = pd.DataFrame(columns=['doc'])\n",
    "    with open(file,encoding='utf-8') as f:\n",
    "        xml = f.read()\n",
    "    xml = '<ROOT>' + xml + '</ROOT>'\n",
    "    for item in ET.fromstring(xml):\n",
    "        docID = item.findtext('DOCNO')\n",
    "        headline = item.findtext('HEADLINE')\n",
    "        text = item.findtext('TEXT')\n",
    "        content = headline+text\n",
    "        docs_df.loc[docID] = content\n",
    "    return docs"
   ]
  },
  {
   "cell_type": "code",
   "execution_count": 4,
   "metadata": {},
   "outputs": [],
   "source": [
    "def load_stop_words(file):\n",
    "    with open(file,encoding='utf-8-sig') as f:\n",
    "        stop_words = [w.strip('\\n') for w in f.readlines()]\n",
    "    return stop_words"
   ]
  },
  {
   "cell_type": "markdown",
   "metadata": {},
   "source": [
    "## Pre-processes text"
   ]
  },
  {
   "cell_type": "code",
   "execution_count": 5,
   "metadata": {},
   "outputs": [],
   "source": [
    "import re"
   ]
  },
  {
   "cell_type": "code",
   "execution_count": 6,
   "metadata": {},
   "outputs": [],
   "source": [
    "from nltk.stem import PorterStemmer"
   ]
  },
  {
   "cell_type": "code",
   "execution_count": 7,
   "metadata": {},
   "outputs": [],
   "source": [
    "def preprocess(text):\n",
    "    preprocessed_tokens = []\n",
    "    stemmer = PorterStemmer()\n",
    "    pattern = r\"\\w+\"\n",
    "    tokens = re.findall(pattern,text)\n",
    "    for token in tokens:\n",
    "        if token.lower() not in stop_words:\n",
    "            preprocessed_tokens.append(stemmer.stem(token.lower()))\n",
    "    return preprocessed_tokens"
   ]
  },
  {
   "cell_type": "markdown",
   "metadata": {},
   "source": [
    "## Creates a positional inverted index"
   ]
  },
  {
   "cell_type": "code",
   "execution_count": 8,
   "metadata": {},
   "outputs": [],
   "source": [
    "from collections import defaultdict, OrderedDict"
   ]
  },
  {
   "cell_type": "code",
   "execution_count": 9,
   "metadata": {},
   "outputs": [],
   "source": [
    "def positional_inverted_index():\n",
    "    index_dict = defaultdict(lambda:defaultdict(list))\n",
    "    for index,data in docs.iterrows():\n",
    "        doc = data['doc']\n",
    "        tokens = preprocess(doc)\n",
    "        for position in range(len(tokens)):\n",
    "            index_dict[tokens[position]][index].append(pos+1)\n",
    "    ordered_index_dict = OrderedDict(sorted(index.items()))"
   ]
  },
  {
   "cell_type": "code",
   "execution_count": 10,
   "metadata": {},
   "outputs": [],
   "source": [
    "def write_index_to_file(index):\n",
    "    with open('index.txt', 'w', encoding='utf-8') as f:\n",
    "        for term in index.keys():\n",
    "                line = term + ':' + '\\n'\n",
    "                for docID in index[term].keys():\n",
    "                    position_list = index[term][docID]\n",
    "                    line += '\\t' + str(docID) + ': '+ ','.join(str(position) for position in position_list)+ '\\n'\n",
    "                f.write(line)            "
   ]
  },
  {
   "cell_type": "markdown",
   "metadata": {},
   "source": [
    "## write positional inverted index to file"
   ]
  },
  {
   "cell_type": "code",
   "execution_count": 11,
   "metadata": {},
   "outputs": [],
   "source": [
    "xml_path = \"\"\n",
    "stop_word_path = \"\"\n",
    "docs = load_xml(xml_path)\n",
    "stop_words = load_stop_words(stop_word_path)\n",
    "index = positional_inverted_index()\n",
    "write_index_to_file(index)"
   ]
  },
  {
   "cell_type": "code",
   "execution_count": null,
   "metadata": {},
   "outputs": [],
   "source": []
  }
 ],
 "metadata": {
  "kernelspec": {
   "display_name": "Python 3",
   "language": "python",
   "name": "python3"
  },
  "language_info": {
   "codemirror_mode": {
    "name": "ipython",
    "version": 3
   },
   "file_extension": ".py",
   "mimetype": "text/x-python",
   "name": "python",
   "nbconvert_exporter": "python",
   "pygments_lexer": "ipython3",
   "version": "3.7.6"
  }
 },
 "nbformat": 4,
 "nbformat_minor": 4
}
