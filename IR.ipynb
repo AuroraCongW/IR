{
 "cells": [
  {
   "cell_type": "markdown",
   "metadata": {},
   "source": [
    "## load dataset"
   ]
  },
  {
   "cell_type": "code",
   "execution_count": 1,
   "metadata": {},
   "outputs": [],
   "source": [
    "from xml.etree.ElementTree import parse"
   ]
  },
  {
   "cell_type": "code",
   "execution_count": 2,
   "metadata": {},
   "outputs": [],
   "source": [
    "def load_xml(file):\n",
    "    docs_dict = {}\n",
    "    doc_xml = parse(file)\n",
    "    root = doc_xml.getroot()\n",
    "    for item in root:\n",
    "        docID = item[0].text\n",
    "        headline = item[3].text\n",
    "        text = item[4].text\n",
    "        content = headline+text\n",
    "        docs_dict[docID] = content\n",
    "    return docs_dict"
   ]
  },
  {
   "cell_type": "code",
   "execution_count": 3,
   "metadata": {},
   "outputs": [],
   "source": [
    "def load_stop_words(file):\n",
    "    with open(file,encoding='utf-8-sig') as f:\n",
    "        stop_words = [w.strip('\\n') for w in f.readlines()]\n",
    "    return stop_words"
   ]
  },
  {
   "cell_type": "markdown",
   "metadata": {},
   "source": [
    "## Pre-processes text"
   ]
  },
  {
   "cell_type": "code",
   "execution_count": 4,
   "metadata": {},
   "outputs": [],
   "source": [
    "import re"
   ]
  },
  {
   "cell_type": "code",
   "execution_count": 5,
   "metadata": {},
   "outputs": [],
   "source": [
    "from nltk.stem import PorterStemmer"
   ]
  },
  {
   "cell_type": "code",
   "execution_count": 6,
   "metadata": {},
   "outputs": [],
   "source": [
    "def preprocess(text):\n",
    "    preprocessed_tokens = []\n",
    "    stemmer = PorterStemmer()\n",
    "    pattern = r\"\\w+\"\n",
    "    tokens = re.findall(pattern,text)\n",
    "    for token in tokens:\n",
    "        if token.lower() not in stop_words:\n",
    "            preprocessed_tokens.append(stemmer.stem(token.lower()))\n",
    "    return preprocessed_tokens"
   ]
  },
  {
   "cell_type": "markdown",
   "metadata": {},
   "source": [
    "## Creates a positional inverted index"
   ]
  },
  {
   "cell_type": "code",
   "execution_count": 7,
   "metadata": {},
   "outputs": [],
   "source": [
    "from collections import defaultdict, OrderedDict"
   ]
  },
  {
   "cell_type": "code",
   "execution_count": 8,
   "metadata": {},
   "outputs": [],
   "source": [
    "def positional_inverted_index():\n",
    "    index_dict = defaultdict(lambda:defaultdict(list))\n",
    "    for docID,content in docs_dict.items():\n",
    "        tokens = preprocess(content)\n",
    "        for position,token in enumerate(tokens):\n",
    "            index_dict[token][docID].append(position+1)\n",
    "    ordered_index_dict = OrderedDict(sorted(index_dict.items()))\n",
    "    return ordered_index_dict"
   ]
  },
  {
   "cell_type": "code",
   "execution_count": 9,
   "metadata": {},
   "outputs": [],
   "source": [
    "def write_index_to_file(index):\n",
    "    with open('index.txt', 'w', encoding='utf-8') as f:\n",
    "        for term in index.keys():\n",
    "                line = term + ':' + str(len(index[term])) +'\\n'\n",
    "                for docID in index[term].keys():\n",
    "                    position_list = index[term][docID]\n",
    "                    line += '\\t' + str(docID) + ': '+ ','.join(str(position) for position in position_list)+ '\\n'\n",
    "                f.write(line)            "
   ]
  },
  {
   "cell_type": "markdown",
   "metadata": {},
   "source": [
    "## write positional inverted index to file"
   ]
  },
  {
   "cell_type": "code",
   "execution_count": 10,
   "metadata": {},
   "outputs": [],
   "source": [
    "# xml_path = \"/home/congw/Projects/IR/sample/trec.sample.xml\"\n",
    "# stop_word_path = \"/home/congw/Projects/IR/englishST.txt\"\n",
    "docs_dict = load_xml(xml_path)\n",
    "stop_words = load_stop_words(stop_word_path)\n",
    "index = positional_inverted_index()\n",
    "write_index_to_file(index)"
   ]
  },
  {
   "cell_type": "markdown",
   "metadata": {},
   "source": [
    "## Boolean search"
   ]
  },
  {
   "cell_type": "code",
   "execution_count": 30,
   "metadata": {},
   "outputs": [],
   "source": [
    "def tokenize_query(query):\n",
    "    query_list = query.split(' ')\n",
    "    return query_list"
   ]
  },
  {
   "cell_type": "code",
   "execution_count": 31,
   "metadata": {},
   "outputs": [],
   "source": [
    "def parse_proximity_query(query):\n",
    "    proximity_parse = re.findall(r'#([0-9]+?)\\((.+?)\\)', query)\n",
    "    max_distence = int(proximity_parse[0][0])\n",
    "    query_terms = proximity_parse[0][1].split(',')\n",
    "    preprocessed_query_terms = [PorterStemmer().stem(t.lower()) for t in query_terms]\n",
    "    return preprocessed_query_terms,max_distence\n",
    "def parse_phrasal_query(query):\n",
    "    phrasal_parse = re.findall(r'\\\"(.+?)\\\"', query)\n",
    "    query_terms = phrasal_parse[0].split(' ')\n",
    "    preprocessed_query_terms = [PorterStemmer().stem(t.lower()) for t in query_terms]\n",
    "    return preprocessed_query_terms"
   ]
  },
  {
   "cell_type": "code",
   "execution_count": 33,
   "metadata": {},
   "outputs": [],
   "source": [
    "def linear_merge(terms,max_dist,search=\"Phrasal\"):\n",
    "    posting_lists = [index[term] for term in terms]\n",
    "    docNums = [sorted(posting_list.keys()) for posting_list in posting_lists]\n",
    "    result = []\n",
    "    intersection_docNums = list(set(docNums[0])|set(docNums[1]))\n",
    "    for intersection_docNum in intersection_docNums:\n",
    "        left_term_position = posting_lists[0][intersection_docNum]             \n",
    "        right_term_position = posting_lists[1][intersection_docNum]                         \n",
    "        abs_distences = [abs(j - i) for i in left_term_pos for j in right_term_pos]\n",
    "        if search==\"Phrasal\":\n",
    "            if max_dist in abs_distences:\n",
    "                result.append(intersection_docNum)\n",
    "        else:\n",
    "            if any([abs_distence <= max_dist for abs_distence in abs_distences]):\n",
    "                result.append(intersection_docNum)\n",
    "    return result"
   ]
  },
  {
   "cell_type": "code",
   "execution_count": 34,
   "metadata": {},
   "outputs": [],
   "source": [
    "def single_search(query):\n",
    "    def is_find(words):\n",
    "        flag = 1\n",
    "        for word in words:\n",
    "            if word not in index.keys():\n",
    "                flag=0\n",
    "        return flag\n",
    "        \n",
    "    if '\\\"' in query:\n",
    "        query_terms = parse_phrasal_query(query)\n",
    "        if is_find(query_terms):\n",
    "            return linear_merge(query,1,\"Phrasal\")\n",
    "    \n",
    "    elif '#' in query:\n",
    "        query_terms,max_ditence = parse_proximity_query(query)\n",
    "        if is_find(query_terms):\n",
    "            return linear_merge(query,max_ditence,\"Proximity\")\n",
    "    else:\n",
    "        query_term = [PorterStemmer().stem(query.lower())]\n",
    "        if is_find(query_term):\n",
    "            return sorted(index[query_term[0]].keys())\n",
    "    "
   ]
  },
  {
   "cell_type": "code",
   "execution_count": null,
   "metadata": {},
   "outputs": [],
   "source": [
    "def bool_search(query):\n",
    "    query_lst = tokenize_query(query)\n",
    "    key_words = [\"AND\",\"OR\",\"NOT\"]\n",
    "    if len(query_lst) == 1:\n",
    "        return single_search(query_lst[0])\n",
    "    \n",
    "    if len(query_lst) == 3:\n",
    "    \n",
    "        if query_sentence[1] == \"AND\":\n",
    "            word1 = query_sentence[0]\n",
    "            word2 = query_sentence[2]\n",
    "            return set(single_search(word1)) & set(single_search(word2))\n",
    "\n",
    "        else:\n",
    "            word1 = query_sentence[0]\n",
    "            word2 = query_sentence[2]\n",
    "            return set(single_search(word1)) | set(single_search(word2))\n",
    "    #todo\n",
    "    "
   ]
  },
  {
   "cell_type": "markdown",
   "metadata": {},
   "source": [
    "## tf-idf"
   ]
  },
  {
   "cell_type": "code",
   "execution_count": null,
   "metadata": {},
   "outputs": [],
   "source": []
  }
 ],
 "metadata": {
  "kernelspec": {
   "display_name": "Python 3",
   "language": "python",
   "name": "python3"
  },
  "language_info": {
   "codemirror_mode": {
    "name": "ipython",
    "version": 3
   },
   "file_extension": ".py",
   "mimetype": "text/x-python",
   "name": "python",
   "nbconvert_exporter": "python",
   "pygments_lexer": "ipython3",
   "version": "3.7.6"
  }
 },
 "nbformat": 4,
 "nbformat_minor": 4
}
