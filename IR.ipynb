{
 "cells": [
  {
   "cell_type": "markdown",
   "metadata": {},
   "source": [
    "## load dataset"
   ]
  },
  {
   "cell_type": "code",
   "execution_count": 1,
   "metadata": {},
   "outputs": [],
   "source": [
    "import pandas as pd"
   ]
  },
  {
   "cell_type": "code",
   "execution_count": 17,
   "metadata": {},
   "outputs": [],
   "source": [
    "import xml.etree.ElementTree as ET"
   ]
  },
  {
   "cell_type": "code",
   "execution_count": 15,
   "metadata": {},
   "outputs": [],
   "source": [
    "def load_xml(file):\n",
    "    docs = pd.DataFrame(columns=['doc'])\n",
    "    with open(file,encoding='utf-8') as f:\n",
    "        xml = f.read()\n",
    "    xml = '<ROOT>' + xml + '</ROOT>'\n",
    "    for item in ET.fromstring(xml):\n",
    "        docID = item.findtext('DOCNO')\n",
    "        headline = item.findtext('HEADLINE')\n",
    "        text = item.findtext('TEXT')\n",
    "        content\n",
    "        docs_df.loc[docID] = content\n",
    "    return docs"
   ]
  },
  {
   "cell_type": "code",
   "execution_count": 4,
   "metadata": {},
   "outputs": [],
   "source": [
    "def load_stop_words(file):\n",
    "    with open(file,encoding='utf-8-sig') as f:\n",
    "        stop_words = [w.strip('\\n') for w in f.readlines()]\n",
    "    return stop_words"
   ]
  },
  {
   "cell_type": "markdown",
   "metadata": {},
   "source": [
    "## Pre-processes text"
   ]
  },
  {
   "cell_type": "code",
   "execution_count": 5,
   "metadata": {},
   "outputs": [],
   "source": [
    "import re"
   ]
  },
  {
   "cell_type": "code",
   "execution_count": 6,
   "metadata": {},
   "outputs": [],
   "source": [
    "from nltk.stem import PorterStemmer"
   ]
  },
  {
   "cell_type": "code",
   "execution_count": 7,
   "metadata": {},
   "outputs": [],
   "source": [
    "def preprocess(text):\n",
    "    preprocessed_tokens = []\n",
    "    stemmer = PorterStemmer()\n",
    "    pattern = r\"\\w+\"\n",
    "    tokens = re.findall(pattern,text)\n",
    "    for token in tokens:\n",
    "        if token.lower() not in stop_words:\n",
    "            preprocessed_tokens.append(stemmer.stem(token.lower()))\n",
    "    return preprocessed_tokens"
   ]
  },
  {
   "cell_type": "markdown",
   "metadata": {},
   "source": [
    "## Creates a positional inverted index"
   ]
  },
  {
   "cell_type": "code",
   "execution_count": 8,
   "metadata": {},
   "outputs": [],
   "source": [
    "from collections import defaultdict, OrderedDict"
   ]
  },
  {
   "cell_type": "code",
   "execution_count": 9,
   "metadata": {},
   "outputs": [],
   "source": [
    "def positional_inverted_index():\n",
    "    index_dict = defaultdict(lambda:defaultdict(list))\n",
    "    for index,data in docs.iterrows():\n",
    "        doc = data['doc']\n",
    "        tokens = preprocess(doc)\n",
    "        for position in range(len(tokens)):\n",
    "            index_dict[tokens[position]][index].append(pos+1)\n",
    "    ordered_index_dict = OrderedDict(sorted(index.items()))"
   ]
  },
  {
   "cell_type": "code",
   "execution_count": 10,
   "metadata": {},
   "outputs": [],
   "source": [
    "def write_index_to_file(index):\n",
    "    with open('index.txt', 'w', encoding='utf-8') as f:\n",
    "        for term in index.keys():\n",
    "                line = term + ':' + '\\n'\n",
    "                for docID in index[term].keys():\n",
    "                    position_list = index[term][docID]\n",
    "                    line += '\\t' + str(docID) + ': '+ ','.join(str(position) for position in position_list)+ '\\n'\n",
    "                f.write(line)            "
   ]
  },
  {
   "cell_type": "markdown",
   "metadata": {},
   "source": [
    "## write positional inverted index to file"
   ]
  },
  {
   "cell_type": "code",
   "execution_count": 16,
   "metadata": {},
   "outputs": [
    {
     "ename": "FileNotFoundError",
     "evalue": "[Errno 2] No such file or directory: '<document>\\n<DOC>\\n\\t<DOCNO>1</DOCNO>\\n\\t<Text>\\n\\t\\tHe likes to wink, he likes to drink\\n\\t</Text>\\n</DOC>\\n\\t\\n<DOC>\\n\\t<DOCNO>2</DOCNO>\\n\\t<Text>\\n\\t\\tHe likes to drink, and drink, and drink\\n\\t</Text>\\n</DOC>\\n\\n<DOC>\\n\\t<DOCNO>3</DOCNO>\\n\\t<Text>\\n\\t\\tThe thing he likes to drink is ink\\n\\t</Text>\\n</DOC>\\n\\n<DOC>\\n\\t<DOCNO>4</DOCNO>\\n\\t<Text>\\n\\t\\tThe ink he likes to drink is pink\\n\\t</Text>\\n</DOC>\\n\\n<DOC>\\n\\t<DOCNO>5</DOCNO>\\n\\t<Text>\\n\\t\\tHe likes to wink, and drink pink ink\\n\\t</Text>\\n</DOC>\\n</document>\\n'",
     "output_type": "error",
     "traceback": [
      "\u001b[0;31m---------------------------------------------------------------------------\u001b[0m",
      "\u001b[0;31mFileNotFoundError\u001b[0m                         Traceback (most recent call last)",
      "\u001b[0;32m<ipython-input-16-80d7e6ea14ef>\u001b[0m in \u001b[0;36m<module>\u001b[0;34m\u001b[0m\n\u001b[1;32m      1\u001b[0m \u001b[0mxml_path\u001b[0m \u001b[0;34m=\u001b[0m \u001b[0;34m\"/home/congw/Projects/IR/样例文件+检索内容样例/sample.xml\"\u001b[0m\u001b[0;34m\u001b[0m\u001b[0;34m\u001b[0m\u001b[0m\n\u001b[1;32m      2\u001b[0m \u001b[0mstop_word_path\u001b[0m \u001b[0;34m=\u001b[0m \u001b[0;34m\"/home/congw/Projects/IR/englishST.txt\"\u001b[0m\u001b[0;34m\u001b[0m\u001b[0;34m\u001b[0m\u001b[0m\n\u001b[0;32m----> 3\u001b[0;31m \u001b[0mdocs\u001b[0m \u001b[0;34m=\u001b[0m \u001b[0mload_xml\u001b[0m\u001b[0;34m(\u001b[0m\u001b[0mxml_path\u001b[0m\u001b[0;34m)\u001b[0m\u001b[0;34m\u001b[0m\u001b[0;34m\u001b[0m\u001b[0m\n\u001b[0m\u001b[1;32m      4\u001b[0m \u001b[0;31m# stop_words = load_stop_words(stop_word_path)\u001b[0m\u001b[0;34m\u001b[0m\u001b[0;34m\u001b[0m\u001b[0;34m\u001b[0m\u001b[0m\n\u001b[1;32m      5\u001b[0m \u001b[0;31m# index = positional_inverted_index()\u001b[0m\u001b[0;34m\u001b[0m\u001b[0;34m\u001b[0m\u001b[0;34m\u001b[0m\u001b[0m\n",
      "\u001b[0;32m<ipython-input-15-66f1f941c64a>\u001b[0m in \u001b[0;36mload_xml\u001b[0;34m(file)\u001b[0m\n\u001b[1;32m      3\u001b[0m     \u001b[0;32mwith\u001b[0m \u001b[0mopen\u001b[0m\u001b[0;34m(\u001b[0m\u001b[0mfile\u001b[0m\u001b[0;34m,\u001b[0m\u001b[0mencoding\u001b[0m\u001b[0;34m=\u001b[0m\u001b[0;34m'utf-8'\u001b[0m\u001b[0;34m)\u001b[0m \u001b[0;32mas\u001b[0m \u001b[0mf\u001b[0m\u001b[0;34m:\u001b[0m\u001b[0;34m\u001b[0m\u001b[0;34m\u001b[0m\u001b[0m\n\u001b[1;32m      4\u001b[0m         \u001b[0mxml\u001b[0m \u001b[0;34m=\u001b[0m \u001b[0mf\u001b[0m\u001b[0;34m.\u001b[0m\u001b[0mread\u001b[0m\u001b[0;34m(\u001b[0m\u001b[0;34m)\u001b[0m\u001b[0;34m\u001b[0m\u001b[0;34m\u001b[0m\u001b[0m\n\u001b[0;32m----> 5\u001b[0;31m     \u001b[0mdoc\u001b[0m \u001b[0;34m=\u001b[0m \u001b[0mparse\u001b[0m\u001b[0;34m(\u001b[0m\u001b[0mxml\u001b[0m\u001b[0;34m)\u001b[0m\u001b[0;34m\u001b[0m\u001b[0;34m\u001b[0m\u001b[0m\n\u001b[0m\u001b[1;32m      6\u001b[0m     \u001b[0;32mfor\u001b[0m \u001b[0mitem\u001b[0m \u001b[0;32min\u001b[0m \u001b[0mdoc\u001b[0m\u001b[0;34m.\u001b[0m\u001b[0miterfind\u001b[0m\u001b[0;34m(\u001b[0m\u001b[0;34m'channel/item'\u001b[0m\u001b[0;34m)\u001b[0m\u001b[0;34m:\u001b[0m\u001b[0;34m\u001b[0m\u001b[0;34m\u001b[0m\u001b[0m\n\u001b[1;32m      7\u001b[0m         \u001b[0mtitle\u001b[0m \u001b[0;34m=\u001b[0m \u001b[0mitem\u001b[0m\u001b[0;34m.\u001b[0m\u001b[0mfindtext\u001b[0m\u001b[0;34m(\u001b[0m\u001b[0;34m'DOCNO'\u001b[0m\u001b[0;34m)\u001b[0m\u001b[0;34m\u001b[0m\u001b[0;34m\u001b[0m\u001b[0m\n",
      "\u001b[0;32m~/anaconda3/lib/python3.7/xml/etree/ElementTree.py\u001b[0m in \u001b[0;36mparse\u001b[0;34m(source, parser)\u001b[0m\n\u001b[1;32m   1195\u001b[0m     \"\"\"\n\u001b[1;32m   1196\u001b[0m     \u001b[0mtree\u001b[0m \u001b[0;34m=\u001b[0m \u001b[0mElementTree\u001b[0m\u001b[0;34m(\u001b[0m\u001b[0;34m)\u001b[0m\u001b[0;34m\u001b[0m\u001b[0;34m\u001b[0m\u001b[0m\n\u001b[0;32m-> 1197\u001b[0;31m     \u001b[0mtree\u001b[0m\u001b[0;34m.\u001b[0m\u001b[0mparse\u001b[0m\u001b[0;34m(\u001b[0m\u001b[0msource\u001b[0m\u001b[0;34m,\u001b[0m \u001b[0mparser\u001b[0m\u001b[0;34m)\u001b[0m\u001b[0;34m\u001b[0m\u001b[0;34m\u001b[0m\u001b[0m\n\u001b[0m\u001b[1;32m   1198\u001b[0m     \u001b[0;32mreturn\u001b[0m \u001b[0mtree\u001b[0m\u001b[0;34m\u001b[0m\u001b[0;34m\u001b[0m\u001b[0m\n\u001b[1;32m   1199\u001b[0m \u001b[0;34m\u001b[0m\u001b[0m\n",
      "\u001b[0;32m~/anaconda3/lib/python3.7/xml/etree/ElementTree.py\u001b[0m in \u001b[0;36mparse\u001b[0;34m(self, source, parser)\u001b[0m\n\u001b[1;32m    585\u001b[0m         \u001b[0mclose_source\u001b[0m \u001b[0;34m=\u001b[0m \u001b[0;32mFalse\u001b[0m\u001b[0;34m\u001b[0m\u001b[0;34m\u001b[0m\u001b[0m\n\u001b[1;32m    586\u001b[0m         \u001b[0;32mif\u001b[0m \u001b[0;32mnot\u001b[0m \u001b[0mhasattr\u001b[0m\u001b[0;34m(\u001b[0m\u001b[0msource\u001b[0m\u001b[0;34m,\u001b[0m \u001b[0;34m\"read\"\u001b[0m\u001b[0;34m)\u001b[0m\u001b[0;34m:\u001b[0m\u001b[0;34m\u001b[0m\u001b[0;34m\u001b[0m\u001b[0m\n\u001b[0;32m--> 587\u001b[0;31m             \u001b[0msource\u001b[0m \u001b[0;34m=\u001b[0m \u001b[0mopen\u001b[0m\u001b[0;34m(\u001b[0m\u001b[0msource\u001b[0m\u001b[0;34m,\u001b[0m \u001b[0;34m\"rb\"\u001b[0m\u001b[0;34m)\u001b[0m\u001b[0;34m\u001b[0m\u001b[0;34m\u001b[0m\u001b[0m\n\u001b[0m\u001b[1;32m    588\u001b[0m             \u001b[0mclose_source\u001b[0m \u001b[0;34m=\u001b[0m \u001b[0;32mTrue\u001b[0m\u001b[0;34m\u001b[0m\u001b[0;34m\u001b[0m\u001b[0m\n\u001b[1;32m    589\u001b[0m         \u001b[0;32mtry\u001b[0m\u001b[0;34m:\u001b[0m\u001b[0;34m\u001b[0m\u001b[0;34m\u001b[0m\u001b[0m\n",
      "\u001b[0;31mFileNotFoundError\u001b[0m: [Errno 2] No such file or directory: '<document>\\n<DOC>\\n\\t<DOCNO>1</DOCNO>\\n\\t<Text>\\n\\t\\tHe likes to wink, he likes to drink\\n\\t</Text>\\n</DOC>\\n\\t\\n<DOC>\\n\\t<DOCNO>2</DOCNO>\\n\\t<Text>\\n\\t\\tHe likes to drink, and drink, and drink\\n\\t</Text>\\n</DOC>\\n\\n<DOC>\\n\\t<DOCNO>3</DOCNO>\\n\\t<Text>\\n\\t\\tThe thing he likes to drink is ink\\n\\t</Text>\\n</DOC>\\n\\n<DOC>\\n\\t<DOCNO>4</DOCNO>\\n\\t<Text>\\n\\t\\tThe ink he likes to drink is pink\\n\\t</Text>\\n</DOC>\\n\\n<DOC>\\n\\t<DOCNO>5</DOCNO>\\n\\t<Text>\\n\\t\\tHe likes to wink, and drink pink ink\\n\\t</Text>\\n</DOC>\\n</document>\\n'"
     ]
    }
   ],
   "source": [
    "xml_path = \"/home/congw/Projects/IR/样例文件+检索内容样例/sample.xml\"\n",
    "stop_word_path = \"/home/congw/Projects/IR/englishST.txt\"\n",
    "docs = load_xml(xml_path)\n",
    "# stop_words = load_stop_words(stop_word_path)\n",
    "# index = positional_inverted_index()\n",
    "# write_index_to_file(index)"
   ]
  }
 ],
 "metadata": {
  "kernelspec": {
   "display_name": "Python 3",
   "language": "python",
   "name": "python3"
  },
  "language_info": {
   "codemirror_mode": {
    "name": "ipython",
    "version": 3
   },
   "file_extension": ".py",
   "mimetype": "text/x-python",
   "name": "python",
   "nbconvert_exporter": "python",
   "pygments_lexer": "ipython3",
   "version": "3.7.6"
  }
 },
 "nbformat": 4,
 "nbformat_minor": 4
}
